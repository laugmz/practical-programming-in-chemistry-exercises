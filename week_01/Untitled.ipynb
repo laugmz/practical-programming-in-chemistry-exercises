{
 "cells": [
  {
   "cell_type": "code",
   "execution_count": 3,
   "id": "0e132d9e-446d-48c1-8cdc-f3a54c6aebbe",
   "metadata": {},
   "outputs": [
    {
     "name": "stdout",
     "output_type": "stream",
     "text": [
      "SPDFGHIK\n"
     ]
    }
   ],
   "source": [
    "sentence = 'Sober Physicists Don’t Find Giraffes Hiding In Kitchens'\n",
    "first_letters = [x[0] for x in sentence.split(' ')]\n",
    "print(''.join(first_letters))"
   ]
  },
  {
   "cell_type": "code",
   "execution_count": null,
   "id": "d4607523-f982-405b-844d-e0fc2b02f4d9",
   "metadata": {},
   "outputs": [],
   "source": []
  }
 ],
 "metadata": {
  "kernelspec": {
   "display_name": "Python 3 (ipykernel)",
   "language": "python",
   "name": "python3"
  },
  "language_info": {
   "codemirror_mode": {
    "name": "ipython",
    "version": 3
   },
   "file_extension": ".py",
   "mimetype": "text/x-python",
   "name": "python",
   "nbconvert_exporter": "python",
   "pygments_lexer": "ipython3",
   "version": "3.10.13"
  }
 },
 "nbformat": 4,
 "nbformat_minor": 5
}
